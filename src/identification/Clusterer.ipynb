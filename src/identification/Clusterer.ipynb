{
 "cells": [
  {
   "cell_type": "code",
   "execution_count": 16,
   "metadata": {
    "collapsed": false
   },
   "outputs": [],
   "source": [
    "import sys\n",
    "sys.path.append('../ml/Features.py')\n",
    "%matplotlib inline\n",
    "import numpy as np\n",
    "import pandas as pd\n",
    "from pandas import Series,DataFrame\n",
    "from scipy.spatial import distance\n",
    "import Features as ft\n",
    "import matplotlib.pyplot as plt\n",
    "\n",
    "from sklearn.cluster import DBSCAN\n",
    "from sklearn import metrics\n",
    "from sklearn.datasets.samples_generator import make_blobs\n",
    "from sklearn.preprocessing import StandardScaler\n",
    "from sklearn import decomposition # PCA\n",
    "from sklearn.metrics import confusion_matrix"
   ]
  },
  {
   "cell_type": "code",
   "execution_count": 17,
   "metadata": {
    "collapsed": true
   },
   "outputs": [],
   "source": [
    "MAX_HEIGHT = 203\n",
    "MAX_WIDTH = 142\n",
    "SPEED = 3\n",
    "SAMPLING_RATE = 8"
   ]
  },
  {
   "cell_type": "code",
   "execution_count": 18,
   "metadata": {
    "collapsed": true
   },
   "outputs": [],
   "source": [
    "def convert_file_to_data_frame(filename,id):\n",
    "    my_file = open(filename,'r')\n",
    "    lines = my_file.readlines()\n",
    "    dict = {}\n",
    "    data = []\n",
    "    for line in lines:\n",
    "        key = line.split('=')[0].rstrip()\n",
    "        val = line.split('=')[1].rstrip()\n",
    "        if dict.has_key(key):\n",
    "            # we probably have all of them at this point\n",
    "            height = MAX_HEIGHT - dict['UT']\n",
    "            if height < 5:\n",
    "                height = np.nan\n",
    "            width = np.nan\n",
    "            if dict.has_key('UL') and dict.has_key('UR'):\n",
    "                if dict['UL'] > 140 or dict['UR'] > 140:\n",
    "                    width = np.nan\n",
    "                else:\n",
    "                    width = MAX_WIDTH - dict['UL'] - dict['UR']\n",
    "            data.append([height,width])\n",
    "            dict = {}\n",
    "        else:\n",
    "            dict[key] = float(val)\n",
    "    frame = DataFrame(data,columns=['height','width'])\n",
    "    frame['id'] = id\n",
    "    return frame\n",
    "def get_frame(path):\n",
    "    result = []\n",
    "    for id in range(1, 21):\n",
    "        filename = path + 'u%d.dat' % id\n",
    "        frame = convert_file_to_data_frame(filename, id)\n",
    "        result.append(frame)\n",
    "    frame = pd.concat(result,ignore_index=True)\n",
    "    return frame"
   ]
  },
  {
   "cell_type": "code",
   "execution_count": 19,
   "metadata": {
    "collapsed": false
   },
   "outputs": [],
   "source": [
    "frame = get_frame('../../data/')\n",
    "frame['event'] = float(-1)"
   ]
  },
  {
   "cell_type": "code",
   "execution_count": 20,
   "metadata": {
    "collapsed": false
   },
   "outputs": [],
   "source": [
    "event_count = 1\n",
    "max_id = frame['id'].max() + 1\n",
    "for id in range(1,21):\n",
    "    res = frame[(frame['height'] > 50) & (frame['id'] == id) & (frame['width'] > 10)]\n",
    "    prev_index = 0\n",
    "    for row in res.itertuples():\n",
    "        if prev_index == 0 or row.Index - prev_index <= 3:\n",
    "            frame.set_value(row.Index,'event',event_count)\n",
    "        else:\n",
    "            event_count +=1\n",
    "            frame.set_value(row.Index,'event',event_count)\n",
    "        prev_index = row.Index\n",
    "    event_count +=1"
   ]
  },
  {
   "cell_type": "code",
   "execution_count": 22,
   "metadata": {
    "collapsed": false
   },
   "outputs": [],
   "source": [
    "first_event = int(frame[frame['event'] > -1]['event'].min())\n",
    "last_event = int(frame[frame['event'] > -1]['event'].max())\n",
    "columns = ['mean_height','min_height','max_height','mean_width','min_width','max_width','time','girth','id']\n",
    "lines = []\n",
    "index = []\n",
    "for event_num in range(first_event,last_event + 1):\n",
    "    data = frame[frame['event'] == event_num]\n",
    "    line = []\n",
    "    line.append(ft.extract_mean_height(data))\n",
    "    line.extend(ft.extract_min_max_height(data))\n",
    "    line.append(ft.extract_mean_width(data))\n",
    "    line.extend(ft.extract_min_max_width(data))\n",
    "    line.append(ft.extract_time(data,sampling_rate=SAMPLING_RATE))\n",
    "    line.append(ft.extract_girth(data,SAMPLING_RATE,SPEED))\n",
    "    line.append(data['id'].iloc[0])\n",
    "    index.append(event_num)\n",
    "    lines.append(line)\n",
    "features = DataFrame(lines,index = index,columns=columns)"
   ]
  },
  {
   "cell_type": "code",
   "execution_count": 23,
   "metadata": {
    "collapsed": false
   },
   "outputs": [],
   "source": [
    "X = features[['mean_height','time','girth']]\n",
    "labels_true = features['id']\n",
    "X = StandardScaler().fit_transform(X)\n",
    "# Compute DBSCAN\n",
    "db = DBSCAN(eps=0.47, min_samples=1).fit(X)\n",
    "core_samples_mask = np.zeros_like(db.labels_, dtype=bool)\n",
    "core_samples_mask[db.core_sample_indices_] = True\n",
    "labels = db.labels_"
   ]
  },
  {
   "cell_type": "code",
   "execution_count": 24,
   "metadata": {
    "collapsed": false
   },
   "outputs": [
    {
     "name": "stdout",
     "output_type": "stream",
     "text": [
      "Estimated number of clusters: 20\n",
      "Homogeneity: 0.685\n",
      "Completeness: 0.778\n",
      "V-measure: 0.728\n",
      "Adjusted Rand Index: 0.055\n",
      "Adjusted Mutual Information: 0.090\n",
      "Silhouette Coefficient: 0.492\n"
     ]
    }
   ],
   "source": [
    "# Number of clusters in labels, ignoring noise if present.\n",
    "n_clusters_ = len(set(labels)) - (1 if -1 in labels else 0)\n",
    "\n",
    "print('Estimated number of clusters: %d' % n_clusters_)\n",
    "print(\"Homogeneity: %0.3f\" % metrics.homogeneity_score(labels_true, labels))\n",
    "print(\"Completeness: %0.3f\" % metrics.completeness_score(labels_true, labels))\n",
    "print(\"V-measure: %0.3f\" % metrics.v_measure_score(labels_true, labels))\n",
    "print(\"Adjusted Rand Index: %0.3f\"\n",
    "      % metrics.adjusted_rand_score(labels_true, labels))\n",
    "print(\"Adjusted Mutual Information: %0.3f\"\n",
    "      % metrics.adjusted_mutual_info_score(labels_true, labels))\n",
    "print(\"Silhouette Coefficient: %0.3f\"\n",
    "      % metrics.silhouette_score(X, labels))"
   ]
  },
  {
   "cell_type": "code",
   "execution_count": 26,
   "metadata": {
    "collapsed": false
   },
   "outputs": [
    {
     "data": {
      "image/png": "[encoded data removed]",
      "text/plain": [
       "<matplotlib.figure.Figure at 0x110208f10>"
      ]
     },
     "metadata": {},
     "output_type": "display_data"
    }
   ],
   "source": [
    "# Black removed and is used for noise instead.\n",
    "unique_labels = set(labels)\n",
    "colors = plt.cm.Spectral(np.linspace(0, 1, len(unique_labels)))\n",
    "for k, col in zip(unique_labels, colors):\n",
    "    if k == -1:\n",
    "        # Black used for noise.\n",
    "        col = 'k'\n",
    "\n",
    "    class_member_mask = (labels == k)\n",
    "\n",
    "    xy = X[class_member_mask & core_samples_mask]\n",
    "    plt.plot(xy[:, 0], xy[:, 2], 'o', markerfacecolor=col,\n",
    "             markeredgecolor='k', markersize=14)\n",
    "\n",
    "    xy = X[class_member_mask & ~core_samples_mask]\n",
    "    plt.plot(xy[:, 0], xy[:, 2], 'o', markerfacecolor=col,\n",
    "             markeredgecolor='k', markersize=6)\n",
    "\n",
    "plt.title('Estimated number of clusters: %d' % n_clusters_)\n",
    "plt.show()"
   ]
  },
  {
   "cell_type": "code",
   "execution_count": 46,
   "metadata": {
    "collapsed": false
   },
   "outputs": [
    {
     "data": {
      "text/plain": [
       "(9, 9)"
      ]
     },
     "execution_count": 46,
     "metadata": {},
     "output_type": "execute_result"
    }
   ],
   "source": [
    "pca = decomposition.RandomizedPCA(n_components=20)\n",
    "pca.fit(features)\n",
    "pca.components_.shape"
   ]
  },
  {
   "cell_type": "code",
   "execution_count": 54,
   "metadata": {
    "collapsed": false
   },
   "outputs": [
    {
     "name": "stdout",
     "output_type": "stream",
     "text": [
      "Homogeneity: 0.891\n",
      "Completeness: 0.903\n",
      "V-measure: 0.897\n"
     ]
    }
   ],
   "source": [
    "labs = pd.read_csv('../../data/labs.csv')\n",
    "label = Series(labs['label'])\n",
    "label_true = Series(labs['label_true'])\n",
    "print(\"Homogeneity: %0.3f\" % metrics.homogeneity_score(labels_true, labels))\n",
    "print(\"Completeness: %0.3f\" % metrics.completeness_score(labels_true, labels))\n",
    "print(\"V-measure: %0.3f\" % metrics.v_measure_score(labels_true, labels))"
   ]
  },
  {
   "cell_type": "code",
   "execution_count": 61,
   "metadata": {
    "collapsed": false
   },
   "outputs": [
    {
     "data": {
      "image/png": "[encoded data removed]",
      "text/plain": [
       "<matplotlib.figure.Figure at 0x110243510>"
      ]
     },
     "metadata": {},
     "output_type": "display_data"
    },
    {
     "data": {
      "image/png": "[encoded data removed]",
      "text/plain": [
       "<matplotlib.figure.Figure at 0x11060d090>"
      ]
     },
     "metadata": {},
     "output_type": "display_data"
    }
   ],
   "source": [
    "def plot_confusion_matrix(cm, title='Confusion matrix', cmap=plt.cm.Blues):\n",
    "    plt.imshow(cm, interpolation='nearest', cmap=cmap)\n",
    "    plt.title(title)\n",
    "    plt.colorbar()\n",
    "    tick_marks = np.arange(20)\n",
    "    plt.xticks(tick_marks, rotation=45)\n",
    "    plt.yticks(tick_marks)\n",
    "    plt.tight_layout()\n",
    "    plt.ylabel('True label')\n",
    "    plt.xlabel('Predicted label')\n",
    "    plt.savefig('confusion.png', dpi=300, bbox_inches='tight')\n",
    "\n",
    "cm = confusion_matrix(labels, labels_true)\n",
    "np.set_printoptions(precision=2)\n",
    "#print('Confusion matrix, without normalization')\n",
    "#print(cm)\n",
    "plt.figure()\n",
    "plot_confusion_matrix(cm)\n",
    "# Normalize the confusion matrix by row (i.e by the number of samples\n",
    "# in each class)\n",
    "cm_normalized = cm.astype('float') / cm.sum(axis=1)[:, np.newaxis]\n",
    "#print('Normalized confusion matrix')\n",
    "#print(cm_normalized)\n",
    "plt.figure()\n",
    "plot_confusion_matrix(cm_normalized)\n",
    "\n",
    "plt.show()"
   ]
  },
  {
   "cell_type": "code",
   "execution_count": null,
   "metadata": {
    "collapsed": true
   },
   "outputs": [],
   "source": [
    ""
   ]
  }
 ],
 "metadata": {
  "kernelspec": {
   "display_name": "Python 2",
   "language": "python",
   "name": "python2"
  },
  "language_info": {
   "codemirror_mode": {
    "name": "ipython",
    "version": 2.0
   },
   "file_extension": ".py",
   "mimetype": "text/x-python",
   "name": "python",
   "nbconvert_exporter": "python",
   "pygments_lexer": "ipython2",
   "version": "2.7.11"
  }
 },
 "nbformat": 4,
 "nbformat_minor": 0
}